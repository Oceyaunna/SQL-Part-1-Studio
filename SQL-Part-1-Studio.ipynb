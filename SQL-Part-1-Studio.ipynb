{
 "cells": [
  {
   "cell_type": "markdown",
   "metadata": {
    "azdata_cell_guid": "b9034d8a-b631-48bf-a895-1012a6ffa784"
   },
   "source": [
    "# SQL Part 1 Studio\n",
    "\n",
    "### Let's practice your SQL quering skills!  For each question, work along in the notebook adding your query and answering the questions. \n",
    "\n",
    "### **DataSet**\n",
    "\n",
    "### <span style=\"font-size: 14px; font-family: -apple-system, BlinkMacSystemFont, sans-serif;\">We will be using the Goodbooks-10k dataset from the exercises in the prep work.&nbsp; Feel free to reference your notebook.</span>\n",
    "\n",
    "- The dataset can be found here: [goodbooks-10k](https://www.kaggle.com/zygmunt/goodbooks-10k)\n",
    "- You can access the **BooksDB** in the Launchcode server.\n",
    "\n",
    "### **Business Issue**\n",
    "\n",
    "You work for a small independant book store and you want to increase sales by running various promotions.  Start by becoming more familar with the BooksDB."
   ]
  },
  {
   "cell_type": "markdown",
   "metadata": {
    "azdata_cell_guid": "6e55eb1c-4a14-4076-90d2-95ed17a6309f",
    "tags": [
     "hide_input"
    ]
   },
   "source": [
    "## Part 1. BooksDB Questions\n",
    "\n",
    "<span style=\"color: rgba(0, 0, 0, 0.87); font-family: -apple-system, system-ui, &quot;Segoe UI&quot;, Helvetica, Arial, sans-serif, &quot;Apple Color Emoji&quot;, &quot;Segoe UI Emoji&quot;, &quot;Segoe UI Symbol&quot;; background-color: rgb(255, 255, 255);\">Question 1:&nbsp; Write a query of the books table, returning the TOP 100 results and&nbsp; includes, book_id, authors, title, average_rating.&nbsp; Use an alias for at least one column and in descending order of rating.&nbsp; What is the number one book?</span>"
   ]
  },
  {
   "cell_type": "code",
   "execution_count": 24,
   "metadata": {
    "azdata_cell_guid": "470b0ca4-9a32-4b46-a42e-bbb645101769",
    "language": "sql",
    "tags": []
   },
   "outputs": [
    {
     "data": {
      "text/html": [
       "(100 rows affected)"
      ]
     },
     "metadata": {},
     "output_type": "display_data"
    },
    {
     "data": {
      "text/html": [
       "Total execution time: 00:00:00.096"
      ]
     },
     "metadata": {},
     "output_type": "display_data"
    },
    {
     "data": {
      "application/vnd.dataresource+json": {
       "data": [
        {
         "0": "2767052",
         "1": "Suzanne Collins",
         "2": "The Hunger Games (The Hunger Games, #1)",
         "3": "4.34"
        },
        {
         "0": "3",
         "1": "J.K. Rowling, Mary GrandPré",
         "2": "Harry Potter and the Sorcerer's Stone (Harry Potter, #1)",
         "3": "4.44"
        },
        {
         "0": "41865",
         "1": "Stephenie Meyer",
         "2": "Twilight (Twilight, #1)",
         "3": "3.57"
        },
        {
         "0": "2657",
         "1": "Harper Lee",
         "2": "To Kill a Mockingbird",
         "3": "4.25"
        },
        {
         "0": "4671",
         "1": "F. Scott Fitzgerald",
         "2": "The Great Gatsby",
         "3": "3.89"
        },
        {
         "0": "11870085",
         "1": "John Green",
         "2": "The Fault in Our Stars",
         "3": "4.26"
        },
        {
         "0": "5907",
         "1": "J.R.R. Tolkien",
         "2": "The Hobbit",
         "3": "4.25"
        },
        {
         "0": "5107",
         "1": "J.D. Salinger",
         "2": "The Catcher in the Rye",
         "3": "3.79"
        },
        {
         "0": "960",
         "1": "Dan Brown",
         "2": "Angels & Demons  (Robert Langdon, #1)",
         "3": "3.85"
        },
        {
         "0": "1885",
         "1": "Jane Austen",
         "2": "Pride and Prejudice",
         "3": "4.24"
        },
        {
         "0": "77203",
         "1": "Khaled Hosseini",
         "2": "The Kite Runner",
         "3": "4.26"
        },
        {
         "0": "13335037",
         "1": "Veronica Roth",
         "2": "Divergent (Divergent, #1)",
         "3": "4.24"
        },
        {
         "0": "5470",
         "1": "George Orwell, Erich Fromm, Celâl Üster",
         "2": "1984",
         "3": "4.14"
        },
        {
         "0": "7613",
         "1": "George Orwell",
         "2": "Animal Farm",
         "3": "3.87"
        },
        {
         "0": "48855",
         "1": "Anne Frank, Eleanor Roosevelt, B.M. Mooyaart-Doubleday",
         "2": "The Diary of a Young Girl",
         "3": "4.1"
        },
        {
         "0": "2429135",
         "1": "Stieg Larsson, Reg Keeland",
         "2": "The Girl with the Dragon Tattoo (Millennium, #1)",
         "3": "4.11"
        },
        {
         "0": "6148028",
         "1": "Suzanne Collins",
         "2": "Catching Fire (The Hunger Games, #2)",
         "3": "4.3"
        },
        {
         "0": "5",
         "1": "J.K. Rowling, Mary GrandPré, Rufus Beck",
         "2": "Harry Potter and the Prisoner of Azkaban (Harry Potter, #3)",
         "3": "4.53"
        },
        {
         "0": "34",
         "1": "J.R.R. Tolkien",
         "2": "The Fellowship of the Ring (The Lord of the Rings, #1)",
         "3": "4.34"
        },
        {
         "0": "7260188",
         "1": "Suzanne Collins",
         "2": "Mockingjay (The Hunger Games, #3)",
         "3": "4.03"
        },
        {
         "0": "2",
         "1": "J.K. Rowling, Mary GrandPré",
         "2": "Harry Potter and the Order of the Phoenix (Harry Potter, #5)",
         "3": "4.46"
        },
        {
         "0": "12232938",
         "1": "Alice Sebold",
         "2": "The Lovely Bones",
         "3": "3.77"
        },
        {
         "0": "15881",
         "1": "J.K. Rowling, Mary GrandPré",
         "2": "Harry Potter and the Chamber of Secrets (Harry Potter, #2)",
         "3": "4.37"
        },
        {
         "0": "6",
         "1": "J.K. Rowling, Mary GrandPré",
         "2": "Harry Potter and the Goblet of Fire (Harry Potter, #4)",
         "3": "4.53"
        },
        {
         "0": "136251",
         "1": "J.K. Rowling, Mary GrandPré",
         "2": "Harry Potter and the Deathly Hallows (Harry Potter, #7)",
         "3": "4.61"
        },
        {
         "0": "968",
         "1": "Dan Brown",
         "2": "The Da Vinci Code (Robert Langdon, #2)",
         "3": "3.79"
        },
        {
         "0": "1",
         "1": "J.K. Rowling, Mary GrandPré",
         "2": "Harry Potter and the Half-Blood Prince (Harry Potter, #6)",
         "3": "4.54"
        },
        {
         "0": "7624",
         "1": "William Golding",
         "2": "Lord of the Flies",
         "3": "3.64"
        },
        {
         "0": "18135",
         "1": "William Shakespeare, Robert           Jackson",
         "2": "Romeo and Juliet",
         "3": "3.73"
        },
        {
         "0": "8442457",
         "1": "Gillian Flynn",
         "2": "Gone Girl",
         "3": "4.03"
        },
        {
         "0": "4667024",
         "1": "Kathryn Stockett",
         "2": "The Help",
         "3": "4.45"
        },
        {
         "0": "890",
         "1": "John Steinbeck",
         "2": "Of Mice and Men",
         "3": "3.84"
        },
        {
         "0": "930",
         "1": "Arthur Golden",
         "2": "Memoirs of a Geisha",
         "3": "4.08"
        },
        {
         "0": "10818853",
         "1": "E.L. James",
         "2": "Fifty Shades of Grey (Fifty Shades, #1)",
         "3": "3.67"
        },
        {
         "0": "865",
         "1": "Paulo Coelho, Alan R. Clarke",
         "2": "The Alchemist",
         "3": "3.82"
        },
        {
         "0": "3636",
         "1": "Lois Lowry",
         "2": "The Giver (The Giver, #1)",
         "3": "4.12"
        },
        {
         "0": "100915",
         "1": "C.S. Lewis",
         "2": "The Lion, the Witch, and the Wardrobe (Chronicles of Narnia, #1)",
         "3": "4.19"
        },
        {
         "0": "14050",
         "1": "Audrey Niffenegger",
         "2": "The Time Traveler's Wife",
         "3": "3.95"
        },
        {
         "0": "13496",
         "1": "George R.R. Martin",
         "2": "A Game of Thrones (A Song of Ice and Fire, #1)",
         "3": "4.45"
        },
        {
         "0": "19501",
         "1": "Elizabeth Gilbert",
         "2": "Eat, Pray, Love",
         "3": "3.51"
        },
        {
         "0": "28187",
         "1": "Rick Riordan",
         "2": "The Lightning Thief (Percy Jackson and the Olympians, #1)",
         "3": "4.23"
        },
        {
         "0": "1934",
         "1": "Louisa May Alcott",
         "2": "Little Women (Little Women, #1)",
         "3": "4.04"
        },
        {
         "0": "10210",
         "1": "Charlotte Brontë, Michael Mason",
         "2": "Jane Eyre",
         "3": "4.1"
        },
        {
         "0": "15931",
         "1": "Nicholas Sparks",
         "2": "The Notebook (The Notebook, #1)",
         "3": "4.06"
        },
        {
         "0": "4214",
         "1": "Yann Martel",
         "2": "Life of Pi",
         "3": "3.88"
        },
        {
         "0": "43641",
         "1": "Sara Gruen",
         "2": "Water for Elephants",
         "3": "4.07"
        },
        {
         "0": "19063",
         "1": "Markus Zusak",
         "2": "The Book Thief",
         "3": "4.36"
        },
        {
         "0": "4381",
         "1": "Ray Bradbury",
         "2": "Fahrenheit 451",
         "3": "3.97"
        },
        {
         "0": "49041",
         "1": "Stephenie Meyer",
         "2": "New Moon (Twilight, #2)",
         "3": "3.52"
        },
        {
         "0": "30119",
         "1": "Shel Silverstein",
         "2": "Where the Sidewalk Ends",
         "3": "4.29"
        },
        {
         "0": "256683",
         "1": "Cassandra Clare",
         "2": "City of Bones (The Mortal Instruments, #1)",
         "3": "4.12"
        },
        {
         "0": "428263",
         "1": "Stephenie Meyer",
         "2": "Eclipse (Twilight, #3)",
         "3": "3.69"
        },
        {
         "0": "113436",
         "1": "Christopher Paolini",
         "2": "Eragon (The Inheritance Cycle, #1)",
         "3": "3.86"
        },
        {
         "0": "11",
         "1": "Douglas Adams",
         "2": "The Hitchhiker's Guide to the Galaxy (Hitchhiker's Guide to the Galaxy, #1)",
         "3": "4.2"
        },
        {
         "0": "5129",
         "1": "Aldous Huxley",
         "2": "Brave New World",
         "3": "3.97"
        },
        {
         "0": "1162543",
         "1": "Stephenie Meyer",
         "2": "Breaking Dawn (Twilight, #4)",
         "3": "3.7"
        },
        {
         "0": "37435",
         "1": "Sue Monk Kidd",
         "2": "The Secret Life of Bees",
         "3": "4.01"
        },
        {
         "0": "2956",
         "1": "Mark Twain, John Seelye, Guy Cardwell",
         "2": "The Adventures of Huckleberry Finn",
         "3": "3.8"
        },
        {
         "0": "24178",
         "1": "E.B. White, Garth Williams, Rosemary Wells",
         "2": "Charlotte's Web",
         "3": "4.15"
        },
        {
         "0": "1618",
         "1": "Mark Haddon",
         "2": "The Curious Incident of the Dog in the Night-Time",
         "3": "3.85"
        },
        {
         "0": "22557272",
         "1": "Paula Hawkins",
         "2": "The Girl on the Train",
         "3": "3.88"
        },
        {
         "0": "119322",
         "1": "Philip Pullman",
         "2": "The Golden Compass (His Dark Materials, #1)",
         "3": "3.94"
        },
        {
         "0": "16068905",
         "1": "Rainbow Rowell",
         "2": "Fangirl",
         "3": "4.12"
        },
        {
         "0": "6185",
         "1": "Emily Brontë, Richard J. Dunn",
         "2": "Wuthering Heights",
         "3": "3.82"
        },
        {
         "0": "10917",
         "1": "Jodi Picoult",
         "2": "My Sister's Keeper",
         "3": "4.06"
        },
        {
         "0": "4981",
         "1": "Kurt Vonnegut Jr.",
         "2": "Slaughterhouse-Five",
         "3": "4.06"
        },
        {
         "0": "18405",
         "1": "Margaret Mitchell",
         "2": "Gone with the Wind",
         "3": "4.28"
        },
        {
         "0": "128029",
         "1": "Khaled Hosseini",
         "2": "A Thousand Splendid Suns",
         "3": "4.34"
        },
        {
         "0": "22628",
         "1": "Stephen Chbosky",
         "2": "The Perks of Being a Wallflower",
         "3": "4.21"
        },
        {
         "0": "11735983",
         "1": "Veronica Roth",
         "2": "Insurgent (Divergent, #2)",
         "3": "4.07"
        },
        {
         "0": "375802",
         "1": "Orson Scott Card",
         "2": "Ender's Game (Ender's Saga, #1)",
         "3": "4.3"
        },
        {
         "0": "18490",
         "1": "Mary Wollstonecraft Shelley, Percy Bysshe Shelley, Maurice Hindle",
         "2": "Frankenstein",
         "3": "3.75"
        },
        {
         "0": "11588",
         "1": "Stephen King",
         "2": "The Shining (The Shining #1)",
         "3": "4.17"
        },
        {
         "0": "1656001",
         "1": "Stephenie Meyer",
         "2": "The Host (The Host, #1)",
         "3": "3.84"
        },
        {
         "0": "99561",
         "1": "John Green",
         "2": "Looking for Alaska",
         "3": "4.09"
        },
        {
         "0": "227443",
         "1": "Helen Fielding",
         "2": "Bridget Jones's Diary (Bridget Jones, #1)",
         "3": "3.75"
        },
        {
         "0": "14935",
         "1": "Jane Austen, Tony Tanner, Ros Ballaster",
         "2": "Sense and Sensibility",
         "3": "4.06"
        },
        {
         "0": "38709",
         "1": "Louis Sachar, Louis Sachar",
         "2": "Holes (Holes, #1)",
         "3": "3.93"
        },
        {
         "0": "23966",
         "1": "Irvine Welsh",
         "2": "Filth",
         "3": "3.76"
        },
        {
         "0": "5139",
         "1": "Lauren Weisberger",
         "2": "The Devil Wears Prada (The Devil Wears Prada, #1)",
         "3": "3.7"
        },
        {
         "0": "1381",
         "1": "Homer, Robert Fagles, E.V. Rieu, Frédéric Mugler, Bernard Knox",
         "2": "The Odyssey",
         "3": "3.73"
        },
        {
         "0": "157993",
         "1": "Antoine de Saint-Exupéry, Richard Howard, Dom Marcos Barbosa, Melina Karakosta",
         "2": "The Little Prince",
         "3": "4.28"
        },
        {
         "0": "7445",
         "1": "Jeannette Walls",
         "2": "The Glass Castle",
         "3": "4.24"
        },
        {
         "0": "1845",
         "1": "Jon Krakauer",
         "2": "Into the Wild",
         "3": "3.94"
        },
        {
         "0": "1953",
         "1": "Charles Dickens, Richard Maxwell, Hablot Knight Browne",
         "2": "A Tale of Two Cities",
         "3": "3.81"
        },
        {
         "0": "7677",
         "1": "Michael Crichton",
         "2": "Jurassic Park (Jurassic Park, #1)",
         "3": "3.96"
        },
        {
         "0": "370493",
         "1": "Shel Silverstein",
         "2": "The Giving Tree",
         "3": "4.38"
        },
        {
         "0": "32542",
         "1": "John Grisham",
         "2": "A Time to Kill",
         "3": "4.03"
        },
        {
         "0": "1617",
         "1": "Elie Wiesel, Marion Wiesel",
         "2": "Night (The Night Trilogy #1)",
         "3": "4.3"
        },
        {
         "0": "6442769",
         "1": "John Green",
         "2": "Paper Towns",
         "3": "3.88"
        },
        {
         "0": "21787",
         "1": "William Goldman",
         "2": "The Princess Bride ",
         "3": "4.25"
        },
        {
         "0": "231804",
         "1": "S.E. Hinton",
         "2": "The Outsiders",
         "3": "4.06"
        },
        {
         "0": "6186357",
         "1": "James Dashner",
         "2": "The Maze Runner (Maze Runner, #1)",
         "3": "4.02"
        },
        {
         "0": "1202",
         "1": "Steven D. Levitt, Stephen J. Dubner",
         "2": "Freakonomics: A Rogue Economist Explores the Hidden Side of Everything (Freakonomics, #1)",
         "3": "3.93"
        },
        {
         "0": "2998",
         "1": "Frances Hodgson Burnett",
         "2": "The Secret Garden",
         "3": "4.12"
        },
        {
         "0": "320",
         "1": "Gabriel García Márquez, Gregory Rabassa",
         "2": "One Hundred Years of Solitude",
         "3": "4.04"
        },
        {
         "0": "5297",
         "1": "Oscar Wilde, Jeffrey Eugenides",
         "2": "The Picture of Dorian Gray",
         "3": "4.06"
        },
        {
         "0": "13536860",
         "1": "E.L. James",
         "2": "Fifty Shades Freed (Fifty Shades, #3)",
         "3": "3.88"
        },
        {
         "0": "17245",
         "1": "Bram Stoker, Nina Auerbach, David J. Skal",
         "2": "Dracula",
         "3": "3.98"
        },
        {
         "0": "5060378",
         "1": "Stieg Larsson, Reg Keeland",
         "2": "The Girl Who Played with Fire (Millennium, #2)",
         "3": "4.22"
        }
       ],
       "schema": {
        "fields": [
         {
          "name": "book_id"
         },
         {
          "name": "authors"
         },
         {
          "name": "title"
         },
         {
          "name": "Average Rating"
         }
        ]
       }
      },
      "text/html": [
       "<table><tr><th>book_id</th><th>authors</th><th>title</th><th>Average Rating</th></tr><tr><td>2767052</td><td>Suzanne Collins</td><td>The Hunger Games (The Hunger Games, #1)</td><td>4.34</td></tr><tr><td>3</td><td>J.K. Rowling, Mary GrandPré</td><td>Harry Potter and the Sorcerer's Stone (Harry Potter, #1)</td><td>4.44</td></tr><tr><td>41865</td><td>Stephenie Meyer</td><td>Twilight (Twilight, #1)</td><td>3.57</td></tr><tr><td>2657</td><td>Harper Lee</td><td>To Kill a Mockingbird</td><td>4.25</td></tr><tr><td>4671</td><td>F. Scott Fitzgerald</td><td>The Great Gatsby</td><td>3.89</td></tr><tr><td>11870085</td><td>John Green</td><td>The Fault in Our Stars</td><td>4.26</td></tr><tr><td>5907</td><td>J.R.R. Tolkien</td><td>The Hobbit</td><td>4.25</td></tr><tr><td>5107</td><td>J.D. Salinger</td><td>The Catcher in the Rye</td><td>3.79</td></tr><tr><td>960</td><td>Dan Brown</td><td>Angels &amp; Demons  (Robert Langdon, #1)</td><td>3.85</td></tr><tr><td>1885</td><td>Jane Austen</td><td>Pride and Prejudice</td><td>4.24</td></tr><tr><td>77203</td><td>Khaled Hosseini</td><td>The Kite Runner</td><td>4.26</td></tr><tr><td>13335037</td><td>Veronica Roth</td><td>Divergent (Divergent, #1)</td><td>4.24</td></tr><tr><td>5470</td><td>George Orwell, Erich Fromm, Celâl Üster</td><td>1984</td><td>4.14</td></tr><tr><td>7613</td><td>George Orwell</td><td>Animal Farm</td><td>3.87</td></tr><tr><td>48855</td><td>Anne Frank, Eleanor Roosevelt, B.M. Mooyaart-Doubleday</td><td>The Diary of a Young Girl</td><td>4.1</td></tr><tr><td>2429135</td><td>Stieg Larsson, Reg Keeland</td><td>The Girl with the Dragon Tattoo (Millennium, #1)</td><td>4.11</td></tr><tr><td>6148028</td><td>Suzanne Collins</td><td>Catching Fire (The Hunger Games, #2)</td><td>4.3</td></tr><tr><td>5</td><td>J.K. Rowling, Mary GrandPré, Rufus Beck</td><td>Harry Potter and the Prisoner of Azkaban (Harry Potter, #3)</td><td>4.53</td></tr><tr><td>34</td><td>J.R.R. Tolkien</td><td>The Fellowship of the Ring (The Lord of the Rings, #1)</td><td>4.34</td></tr><tr><td>7260188</td><td>Suzanne Collins</td><td>Mockingjay (The Hunger Games, #3)</td><td>4.03</td></tr><tr><td>2</td><td>J.K. Rowling, Mary GrandPré</td><td>Harry Potter and the Order of the Phoenix (Harry Potter, #5)</td><td>4.46</td></tr><tr><td>12232938</td><td>Alice Sebold</td><td>The Lovely Bones</td><td>3.77</td></tr><tr><td>15881</td><td>J.K. Rowling, Mary GrandPré</td><td>Harry Potter and the Chamber of Secrets (Harry Potter, #2)</td><td>4.37</td></tr><tr><td>6</td><td>J.K. Rowling, Mary GrandPré</td><td>Harry Potter and the Goblet of Fire (Harry Potter, #4)</td><td>4.53</td></tr><tr><td>136251</td><td>J.K. Rowling, Mary GrandPré</td><td>Harry Potter and the Deathly Hallows (Harry Potter, #7)</td><td>4.61</td></tr><tr><td>968</td><td>Dan Brown</td><td>The Da Vinci Code (Robert Langdon, #2)</td><td>3.79</td></tr><tr><td>1</td><td>J.K. Rowling, Mary GrandPré</td><td>Harry Potter and the Half-Blood Prince (Harry Potter, #6)</td><td>4.54</td></tr><tr><td>7624</td><td>William Golding</td><td>Lord of the Flies</td><td>3.64</td></tr><tr><td>18135</td><td>William Shakespeare, Robert           Jackson</td><td>Romeo and Juliet</td><td>3.73</td></tr><tr><td>8442457</td><td>Gillian Flynn</td><td>Gone Girl</td><td>4.03</td></tr><tr><td>4667024</td><td>Kathryn Stockett</td><td>The Help</td><td>4.45</td></tr><tr><td>890</td><td>John Steinbeck</td><td>Of Mice and Men</td><td>3.84</td></tr><tr><td>930</td><td>Arthur Golden</td><td>Memoirs of a Geisha</td><td>4.08</td></tr><tr><td>10818853</td><td>E.L. James</td><td>Fifty Shades of Grey (Fifty Shades, #1)</td><td>3.67</td></tr><tr><td>865</td><td>Paulo Coelho, Alan R. Clarke</td><td>The Alchemist</td><td>3.82</td></tr><tr><td>3636</td><td>Lois Lowry</td><td>The Giver (The Giver, #1)</td><td>4.12</td></tr><tr><td>100915</td><td>C.S. Lewis</td><td>The Lion, the Witch, and the Wardrobe (Chronicles of Narnia, #1)</td><td>4.19</td></tr><tr><td>14050</td><td>Audrey Niffenegger</td><td>The Time Traveler's Wife</td><td>3.95</td></tr><tr><td>13496</td><td>George R.R. Martin</td><td>A Game of Thrones (A Song of Ice and Fire, #1)</td><td>4.45</td></tr><tr><td>19501</td><td>Elizabeth Gilbert</td><td>Eat, Pray, Love</td><td>3.51</td></tr><tr><td>28187</td><td>Rick Riordan</td><td>The Lightning Thief (Percy Jackson and the Olympians, #1)</td><td>4.23</td></tr><tr><td>1934</td><td>Louisa May Alcott</td><td>Little Women (Little Women, #1)</td><td>4.04</td></tr><tr><td>10210</td><td>Charlotte Brontë, Michael Mason</td><td>Jane Eyre</td><td>4.1</td></tr><tr><td>15931</td><td>Nicholas Sparks</td><td>The Notebook (The Notebook, #1)</td><td>4.06</td></tr><tr><td>4214</td><td>Yann Martel</td><td>Life of Pi</td><td>3.88</td></tr><tr><td>43641</td><td>Sara Gruen</td><td>Water for Elephants</td><td>4.07</td></tr><tr><td>19063</td><td>Markus Zusak</td><td>The Book Thief</td><td>4.36</td></tr><tr><td>4381</td><td>Ray Bradbury</td><td>Fahrenheit 451</td><td>3.97</td></tr><tr><td>49041</td><td>Stephenie Meyer</td><td>New Moon (Twilight, #2)</td><td>3.52</td></tr><tr><td>30119</td><td>Shel Silverstein</td><td>Where the Sidewalk Ends</td><td>4.29</td></tr><tr><td>256683</td><td>Cassandra Clare</td><td>City of Bones (The Mortal Instruments, #1)</td><td>4.12</td></tr><tr><td>428263</td><td>Stephenie Meyer</td><td>Eclipse (Twilight, #3)</td><td>3.69</td></tr><tr><td>113436</td><td>Christopher Paolini</td><td>Eragon (The Inheritance Cycle, #1)</td><td>3.86</td></tr><tr><td>11</td><td>Douglas Adams</td><td>The Hitchhiker's Guide to the Galaxy (Hitchhiker's Guide to the Galaxy, #1)</td><td>4.2</td></tr><tr><td>5129</td><td>Aldous Huxley</td><td>Brave New World</td><td>3.97</td></tr><tr><td>1162543</td><td>Stephenie Meyer</td><td>Breaking Dawn (Twilight, #4)</td><td>3.7</td></tr><tr><td>37435</td><td>Sue Monk Kidd</td><td>The Secret Life of Bees</td><td>4.01</td></tr><tr><td>2956</td><td>Mark Twain, John Seelye, Guy Cardwell</td><td>The Adventures of Huckleberry Finn</td><td>3.8</td></tr><tr><td>24178</td><td>E.B. White, Garth Williams, Rosemary Wells</td><td>Charlotte's Web</td><td>4.15</td></tr><tr><td>1618</td><td>Mark Haddon</td><td>The Curious Incident of the Dog in the Night-Time</td><td>3.85</td></tr><tr><td>22557272</td><td>Paula Hawkins</td><td>The Girl on the Train</td><td>3.88</td></tr><tr><td>119322</td><td>Philip Pullman</td><td>The Golden Compass (His Dark Materials, #1)</td><td>3.94</td></tr><tr><td>16068905</td><td>Rainbow Rowell</td><td>Fangirl</td><td>4.12</td></tr><tr><td>6185</td><td>Emily Brontë, Richard J. Dunn</td><td>Wuthering Heights</td><td>3.82</td></tr><tr><td>10917</td><td>Jodi Picoult</td><td>My Sister's Keeper</td><td>4.06</td></tr><tr><td>4981</td><td>Kurt Vonnegut Jr.</td><td>Slaughterhouse-Five</td><td>4.06</td></tr><tr><td>18405</td><td>Margaret Mitchell</td><td>Gone with the Wind</td><td>4.28</td></tr><tr><td>128029</td><td>Khaled Hosseini</td><td>A Thousand Splendid Suns</td><td>4.34</td></tr><tr><td>22628</td><td>Stephen Chbosky</td><td>The Perks of Being a Wallflower</td><td>4.21</td></tr><tr><td>11735983</td><td>Veronica Roth</td><td>Insurgent (Divergent, #2)</td><td>4.07</td></tr><tr><td>375802</td><td>Orson Scott Card</td><td>Ender's Game (Ender's Saga, #1)</td><td>4.3</td></tr><tr><td>18490</td><td>Mary Wollstonecraft Shelley, Percy Bysshe Shelley, Maurice Hindle</td><td>Frankenstein</td><td>3.75</td></tr><tr><td>11588</td><td>Stephen King</td><td>The Shining (The Shining #1)</td><td>4.17</td></tr><tr><td>1656001</td><td>Stephenie Meyer</td><td>The Host (The Host, #1)</td><td>3.84</td></tr><tr><td>99561</td><td>John Green</td><td>Looking for Alaska</td><td>4.09</td></tr><tr><td>227443</td><td>Helen Fielding</td><td>Bridget Jones's Diary (Bridget Jones, #1)</td><td>3.75</td></tr><tr><td>14935</td><td>Jane Austen, Tony Tanner, Ros Ballaster</td><td>Sense and Sensibility</td><td>4.06</td></tr><tr><td>38709</td><td>Louis Sachar, Louis Sachar</td><td>Holes (Holes, #1)</td><td>3.93</td></tr><tr><td>23966</td><td>Irvine Welsh</td><td>Filth</td><td>3.76</td></tr><tr><td>5139</td><td>Lauren Weisberger</td><td>The Devil Wears Prada (The Devil Wears Prada, #1)</td><td>3.7</td></tr><tr><td>1381</td><td>Homer, Robert Fagles, E.V. Rieu, Frédéric Mugler, Bernard Knox</td><td>The Odyssey</td><td>3.73</td></tr><tr><td>157993</td><td>Antoine de Saint-Exupéry, Richard Howard, Dom Marcos Barbosa, Melina Karakosta</td><td>The Little Prince</td><td>4.28</td></tr><tr><td>7445</td><td>Jeannette Walls</td><td>The Glass Castle</td><td>4.24</td></tr><tr><td>1845</td><td>Jon Krakauer</td><td>Into the Wild</td><td>3.94</td></tr><tr><td>1953</td><td>Charles Dickens, Richard Maxwell, Hablot Knight Browne</td><td>A Tale of Two Cities</td><td>3.81</td></tr><tr><td>7677</td><td>Michael Crichton</td><td>Jurassic Park (Jurassic Park, #1)</td><td>3.96</td></tr><tr><td>370493</td><td>Shel Silverstein</td><td>The Giving Tree</td><td>4.38</td></tr><tr><td>32542</td><td>John Grisham</td><td>A Time to Kill</td><td>4.03</td></tr><tr><td>1617</td><td>Elie Wiesel, Marion Wiesel</td><td>Night (The Night Trilogy #1)</td><td>4.3</td></tr><tr><td>6442769</td><td>John Green</td><td>Paper Towns</td><td>3.88</td></tr><tr><td>21787</td><td>William Goldman</td><td>The Princess Bride </td><td>4.25</td></tr><tr><td>231804</td><td>S.E. Hinton</td><td>The Outsiders</td><td>4.06</td></tr><tr><td>6186357</td><td>James Dashner</td><td>The Maze Runner (Maze Runner, #1)</td><td>4.02</td></tr><tr><td>1202</td><td>Steven D. Levitt, Stephen J. Dubner</td><td>Freakonomics: A Rogue Economist Explores the Hidden Side of Everything (Freakonomics, #1)</td><td>3.93</td></tr><tr><td>2998</td><td>Frances Hodgson Burnett</td><td>The Secret Garden</td><td>4.12</td></tr><tr><td>320</td><td>Gabriel García Márquez, Gregory Rabassa</td><td>One Hundred Years of Solitude</td><td>4.04</td></tr><tr><td>5297</td><td>Oscar Wilde, Jeffrey Eugenides</td><td>The Picture of Dorian Gray</td><td>4.06</td></tr><tr><td>13536860</td><td>E.L. James</td><td>Fifty Shades Freed (Fifty Shades, #3)</td><td>3.88</td></tr><tr><td>17245</td><td>Bram Stoker, Nina Auerbach, David J. Skal</td><td>Dracula</td><td>3.98</td></tr><tr><td>5060378</td><td>Stieg Larsson, Reg Keeland</td><td>The Girl Who Played with Fire (Millennium, #2)</td><td>4.22</td></tr></table>"
      ]
     },
     "execution_count": 24,
     "metadata": {},
     "output_type": "execute_result"
    }
   ],
   "source": [
    "-- return top 100 results\n",
    "SELECT TOP 100 book_id, authors, title, average_rating AS 'Average Rating'\n",
    "FROM books;"
   ]
  },
  {
   "cell_type": "markdown",
   "metadata": {
    "azdata_cell_guid": "777429b8-8622-489d-9c49-e2acecd7f17e"
   },
   "source": [
    "Question 2: Write a query to find the least popular book."
   ]
  },
  {
   "cell_type": "code",
   "execution_count": 22,
   "metadata": {
    "azdata_cell_guid": "c78a1779-db74-470f-a60a-7c72a43d774b",
    "language": "sql",
    "tags": []
   },
   "outputs": [
    {
     "data": {
      "text/html": [
       "(1 row affected)"
      ]
     },
     "metadata": {},
     "output_type": "display_data"
    },
    {
     "data": {
      "text/html": [
       "Total execution time: 00:00:00.072"
      ]
     },
     "metadata": {},
     "output_type": "display_data"
    },
    {
     "data": {
      "application/vnd.dataresource+json": {
       "data": [
        {
         "0": "2.47",
         "1": "One Night at the Call Center"
        }
       ],
       "schema": {
        "fields": [
         {
          "name": "average_rating"
         },
         {
          "name": "least popular book"
         }
        ]
       }
      },
      "text/html": [
       "<table><tr><th>average_rating</th><th>least popular book</th></tr><tr><td>2.47</td><td>One Night at the Call Center</td></tr></table>"
      ]
     },
     "execution_count": 22,
     "metadata": {},
     "output_type": "execute_result"
    }
   ],
   "source": [
    "-- return least popular book\n",
    "SELECT TOP 1 average_rating, title AS 'least popular book'\n",
    "FROM books\n",
    "GROUP BY title, average_rating\n",
    "ORDER BY average_rating ASC\n"
   ]
  },
  {
   "cell_type": "markdown",
   "metadata": {
    "azdata_cell_guid": "a370909d-5d64-49e2-8fec-5220730c8ca7"
   },
   "source": [
    "Question 3: Which tag is the most popular?"
   ]
  },
  {
   "cell_type": "code",
   "execution_count": 29,
   "metadata": {
    "azdata_cell_guid": "9e0451dc-c4d3-4775-9eb1-904854f459ff",
    "language": "sql",
    "tags": []
   },
   "outputs": [
    {
     "data": {
      "text/html": [
       "(1 row affected)"
      ]
     },
     "metadata": {},
     "output_type": "display_data"
    },
    {
     "data": {
      "text/html": [
       "Total execution time: 00:00:00.408"
      ]
     },
     "metadata": {},
     "output_type": "display_data"
    },
    {
     "data": {
      "application/vnd.dataresource+json": {
       "data": [
        {
         "0": "30574"
        }
       ],
       "schema": {
        "fields": [
         {
          "name": "Most Popular Tag"
         }
        ]
       }
      },
      "text/html": [
       "<table><tr><th>Most Popular Tag</th></tr><tr><td>30574</td></tr></table>"
      ]
     },
     "execution_count": 29,
     "metadata": {},
     "output_type": "execute_result"
    }
   ],
   "source": [
    "-- return most popular tag\n",
    "SELECT TOP 1 tag_id AS 'Most Popular Tag' \n",
    "FROM book_tags\n",
    "ORDER BY count DESC"
   ]
  },
  {
   "cell_type": "markdown",
   "metadata": {
    "azdata_cell_guid": "3cdfa7e6-c5a6-49fb-aa27-afeece881627"
   },
   "source": [
    "Question 4: What is the name of the most popular tag?"
   ]
  },
  {
   "cell_type": "code",
   "execution_count": 35,
   "metadata": {
    "azdata_cell_guid": "3cd3a3ec-4ce2-49b6-b714-44179eed00e1",
    "language": "sql"
   },
   "outputs": [
    {
     "data": {
      "text/html": [
       "(5 rows affected)"
      ]
     },
     "metadata": {},
     "output_type": "display_data"
    },
    {
     "data": {
      "text/html": [
       "Total execution time: 00:00:00.081"
      ]
     },
     "metadata": {},
     "output_type": "display_data"
    },
    {
     "data": {
      "application/vnd.dataresource+json": {
       "data": [
        {
         "0": "Комиксы",
         "1": "2"
        },
        {
         "0": "Ποίηση",
         "1": "2"
        },
        {
         "0": "رضوى-عاشور",
         "1": "2"
        },
        {
         "0": "يوسف-زيدان",
         "1": "2"
        },
        {
         "0": "biographies-memoirs",
         "1": "2"
        }
       ],
       "schema": {
        "fields": [
         {
          "name": "most popular tag name"
         },
         {
          "name": "Number of users with tag name"
         }
        ]
       }
      },
      "text/html": [
       "<table><tr><th>most popular tag name</th><th>Number of users with tag name</th></tr><tr><td>Комиксы</td><td>2</td></tr><tr><td>Ποίηση</td><td>2</td></tr><tr><td>رضوى-عاشور</td><td>2</td></tr><tr><td>يوسف-زيدان</td><td>2</td></tr><tr><td>biographies-memoirs</td><td>2</td></tr></table>"
      ]
     },
     "execution_count": 35,
     "metadata": {},
     "output_type": "execute_result"
    }
   ],
   "source": [
    "-- return name of most popular tag\n",
    "SELECT TOP 5 (tag_name) AS 'most popular tag name', COUNT(*) AS 'Number of users with tag name'\n",
    "FROM tags\n",
    "GROUP BY tag_name\n",
    "ORDER BY COUNT(*) DESC"
   ]
  },
  {
   "cell_type": "markdown",
   "metadata": {
    "azdata_cell_guid": "b3962545-c0c2-47ca-a3c4-299c2c0a4b0c"
   },
   "source": [
    "Question 5: How many books where released in the first decade of 2000?"
   ]
  },
  {
   "cell_type": "code",
   "execution_count": 44,
   "metadata": {
    "azdata_cell_guid": "8dcd65e9-1b3e-4cf8-b726-26729a1225f2",
    "language": "sql"
   },
   "outputs": [
    {
     "data": {
      "text/html": [
       "(11 rows affected)"
      ]
     },
     "metadata": {},
     "output_type": "display_data"
    },
    {
     "data": {
      "text/html": [
       "Total execution time: 00:00:00.057"
      ]
     },
     "metadata": {},
     "output_type": "display_data"
    },
    {
     "data": {
      "application/vnd.dataresource+json": {
       "data": [
        {
         "0": "2000",
         "1": "209"
        },
        {
         "0": "2001",
         "1": "226"
        },
        {
         "0": "2002",
         "1": "225"
        },
        {
         "0": "2003",
         "1": "288"
        },
        {
         "0": "2004",
         "1": "307"
        },
        {
         "0": "2005",
         "1": "326"
        },
        {
         "0": "2006",
         "1": "362"
        },
        {
         "0": "2007",
         "1": "363"
        },
        {
         "0": "2008",
         "1": "383"
        },
        {
         "0": "2009",
         "1": "432"
        },
        {
         "0": "2010",
         "1": "473"
        }
       ],
       "schema": {
        "fields": [
         {
          "name": "Publication Year"
         },
         {
          "name": "Number of books published in years 2000-2010"
         }
        ]
       }
      },
      "text/html": [
       "<table><tr><th>Publication Year</th><th>Number of books published in years 2000-2010</th></tr><tr><td>2000</td><td>209</td></tr><tr><td>2001</td><td>226</td></tr><tr><td>2002</td><td>225</td></tr><tr><td>2003</td><td>288</td></tr><tr><td>2004</td><td>307</td></tr><tr><td>2005</td><td>326</td></tr><tr><td>2006</td><td>362</td></tr><tr><td>2007</td><td>363</td></tr><tr><td>2008</td><td>383</td></tr><tr><td>2009</td><td>432</td></tr><tr><td>2010</td><td>473</td></tr></table>"
      ]
     },
     "execution_count": 44,
     "metadata": {},
     "output_type": "execute_result"
    }
   ],
   "source": [
    "-- return number of books published in the first decade of 2000\n",
    "SELECT  original_publication_year AS 'Publication Year', COUNT(*) AS 'Number of books published in years 2000-2010'\n",
    "FROM books\n",
    "WHERE  original_publication_year >= 2000 AND original_publication_year <=2010\n",
    "GROUP BY original_publication_year\n",
    "ORDER BY original_publication_year"
   ]
  },
  {
   "cell_type": "markdown",
   "metadata": {
    "azdata_cell_guid": "5080d6de-2775-4055-97ae-f93fce97a426"
   },
   "source": [
    "Question 6: How many book titles contain the word Happy?"
   ]
  },
  {
   "cell_type": "code",
   "execution_count": 48,
   "metadata": {
    "azdata_cell_guid": "f55f18b9-91b1-4761-ad8c-4758434d7827",
    "language": "sql"
   },
   "outputs": [
    {
     "data": {
      "text/html": [
       "(1 row affected)"
      ]
     },
     "metadata": {},
     "output_type": "display_data"
    },
    {
     "data": {
      "text/html": [
       "Total execution time: 00:00:00.131"
      ]
     },
     "metadata": {},
     "output_type": "display_data"
    },
    {
     "data": {
      "application/vnd.dataresource+json": {
       "data": [
        {
         "0": "13"
        }
       ],
       "schema": {
        "fields": [
         {
          "name": "Number of books containing the workd Happy"
         }
        ]
       }
      },
      "text/html": [
       "<table><tr><th>Number of books containing the workd Happy</th></tr><tr><td>13</td></tr></table>"
      ]
     },
     "execution_count": 48,
     "metadata": {},
     "output_type": "execute_result"
    }
   ],
   "source": [
    "-- return number of books that contain the word Happy\n",
    "SELECT COUNT (*) AS 'Number of books containing the workd Happy'\n",
    "FROM books\n",
    "WHERE title LIKE '%happy%' OR title LIKE '%Happy%'"
   ]
  },
  {
   "cell_type": "markdown",
   "metadata": {
    "azdata_cell_guid": "d38270ef-da5a-42b4-802a-506acb8b9e4b"
   },
   "source": [
    "Question 7: List the books from the top 3 authors from question 1.  If there is more than one author just use the first one. Sort the titles <span style=\"background-color: rgba(127, 127, 127, 0.1); font-family: -apple-system, BlinkMacSystemFont, sans-serif;\">alphabetically by author and then by average_rating, best rated to lowest. Does order matter in sorting?</span>"
   ]
  },
  {
   "cell_type": "code",
   "execution_count": 60,
   "metadata": {
    "azdata_cell_guid": "47466fac-5d8d-491d-bd3c-2f8496f55e6b",
    "language": "sql"
   },
   "outputs": [
    {
     "data": {
      "text/html": [
       "(3 rows affected)"
      ]
     },
     "metadata": {},
     "output_type": "display_data"
    },
    {
     "data": {
      "text/html": [
       "Total execution time: 00:00:00.387"
      ]
     },
     "metadata": {},
     "output_type": "display_data"
    },
    {
     "data": {
      "application/vnd.dataresource+json": {
       "data": [
        {
         "0": "A. Manette Ansay",
         "1": "101911",
         "2": "Vinegar Hill",
         "3": "3.36"
        },
        {
         "0": "A. Meredith Walters",
         "1": "16081754",
         "2": "Find You in the Dark (Find You in the Dark, #1)",
         "3": "3.98"
        },
        {
         "0": "A. Meredith Walters",
         "1": "16102880",
         "2": "Bad Rep (Bad Rep, #1)",
         "3": "3.91"
        }
       ],
       "schema": {
        "fields": [
         {
          "name": "authors"
         },
         {
          "name": "book_id"
         },
         {
          "name": "title"
         },
         {
          "name": "Average Rating"
         }
        ]
       }
      },
      "text/html": [
       "<table><tr><th>authors</th><th>book_id</th><th>title</th><th>Average Rating</th></tr><tr><td>A. Manette Ansay</td><td>101911</td><td>Vinegar Hill</td><td>3.36</td></tr><tr><td>A. Meredith Walters</td><td>16081754</td><td>Find You in the Dark (Find You in the Dark, #1)</td><td>3.98</td></tr><tr><td>A. Meredith Walters</td><td>16102880</td><td>Bad Rep (Bad Rep, #1)</td><td>3.91</td></tr></table>"
      ]
     },
     "execution_count": 60,
     "metadata": {},
     "output_type": "execute_result"
    }
   ],
   "source": [
    "-- return all books from the top 3 authors, sort by author and rating\n",
    "SELECT TOP 3 authors, book_id, title, average_rating AS 'Average Rating'\n",
    "FROM books\n",
    "GROUP BY authors,book_id,title, average_rating\n",
    "ORDER BY authors, average_rating DESC;"
   ]
  },
  {
   "cell_type": "markdown",
   "metadata": {
    "azdata_cell_guid": "db907c70-0bbd-4121-ac91-ae814f703243"
   },
   "source": [
    "Question 8: Take a close look at J.K. Rowling.  Is her top rated book on this list from question 1?  Why might this be? How could we account for this?\n",
    "\n",
    "> Click here to add your answer.\n",
    "> \n",
    "> J.K. Rowlings book is not in the above query becasue we were asking for the output of the first 100 books in our table which J.K. Rowling is not apart of."
   ]
  },
  {
   "cell_type": "code",
   "execution_count": 69,
   "metadata": {
    "azdata_cell_guid": "ce489012-fce9-435c-b570-7734223a0678",
    "language": "sql",
    "tags": []
   },
   "outputs": [
    {
     "data": {
      "text/html": [
       "(27 rows affected)"
      ]
     },
     "metadata": {},
     "output_type": "display_data"
    },
    {
     "data": {
      "text/html": [
       "Total execution time: 00:00:00.116"
      ]
     },
     "metadata": {},
     "output_type": "display_data"
    },
    {
     "data": {
      "application/vnd.dataresource+json": {
       "data": [
        {
         "0": "J.K. Rowling, Mary GrandPré",
         "1": "8",
         "2": "Harry Potter Boxed Set, Books 1-5 (Harry Potter, #1-5)",
         "3": "4.77"
        },
        {
         "0": "J.K. Rowling",
         "1": "862041",
         "2": "Harry Potter Boxset (Harry Potter, #1-7)",
         "3": "4.74"
        },
        {
         "0": "J.K. Rowling",
         "1": "10",
         "2": "Harry Potter Collection (Harry Potter, #1-6)",
         "3": "4.73"
        },
        {
         "0": "J.K. Rowling, Mary GrandPré",
         "1": "99298",
         "2": "The Harry Potter Collection 1-4 (Harry Potter, #1-4)",
         "3": "4.66"
        },
        {
         "0": "J.K. Rowling, Mary GrandPré",
         "1": "136251",
         "2": "Harry Potter and the Deathly Hallows (Harry Potter, #7)",
         "3": "4.61"
        },
        {
         "0": "J.K. Rowling",
         "1": "1317181",
         "2": "Harry Potter and the Order of the Phoenix (Harry Potter, #5, Part 1)",
         "3": "4.56"
        },
        {
         "0": "J.K. Rowling, Mary GrandPré",
         "1": "1",
         "2": "Harry Potter and the Half-Blood Prince (Harry Potter, #6)",
         "3": "4.54"
        },
        {
         "0": "J.K. Rowling, Mary GrandPré",
         "1": "6",
         "2": "Harry Potter and the Goblet of Fire (Harry Potter, #4)",
         "3": "4.53"
        },
        {
         "0": "J.K. Rowling, Mary GrandPré, Rufus Beck",
         "1": "5",
         "2": "Harry Potter and the Prisoner of Azkaban (Harry Potter, #3)",
         "3": "4.53"
        },
        {
         "0": "J.K. Rowling, Mary GrandPré",
         "1": "2",
         "2": "Harry Potter and the Order of the Phoenix (Harry Potter, #5)",
         "3": "4.46"
        },
        {
         "0": "J.K. Rowling, Mary GrandPré",
         "1": "3",
         "2": "Harry Potter and the Sorcerer's Stone (Harry Potter, #1)",
         "3": "4.44"
        },
        {
         "0": "J.K. Rowling",
         "1": "30065028",
         "2": "Fantastic Beasts and Where to Find Them: The Original Screenplay",
         "3": "4.41"
        },
        {
         "0": "J.K. Rowling",
         "1": "2002",
         "2": "Harry Potter Schoolbooks Box Set: Two Classic Books from the Library of Hogwarts School of Witchcraft and Wizardry",
         "3": "4.4"
        },
        {
         "0": "J.K. Rowling, Mary GrandPré",
         "1": "15881",
         "2": "Harry Potter and the Chamber of Secrets (Harry Potter, #2)",
         "3": "4.37"
        },
        {
         "0": "J.K. Rowling, Joel Holland",
         "1": "23731881",
         "2": "Very Good Lives: The Fringe Benefits of Failure and the Importance of Imagination",
         "3": "4.26"
        },
        {
         "0": "J.K. Rowling, MinaLima",
         "1": "31538635",
         "2": "Short Stories from Hogwarts of Heroism, Hardship and Dangerous Hobbies (Pottermore Presents, #1)",
         "3": "4.22"
        },
        {
         "0": "J.K. Rowling",
         "1": "31538647",
         "2": "Hogwarts: An Incomplete and Unreliable Guide (Pottermore Presents, #3)",
         "3": "4.21"
        },
        {
         "0": "Robert Galbraith, J.K. Rowling",
         "1": "25735012",
         "2": "Career of Evil (Cormoran Strike, #3)",
         "3": "4.21"
        },
        {
         "0": "J.K. Rowling, MinaLima",
         "1": "31538614",
         "2": "Short Stories from Hogwarts of Power, Politics and Pesky Poltergeists (Pottermore Presents, #2)",
         "3": "4.2"
        },
        {
         "0": "Melissa Anelli, J.K. Rowling",
         "1": "3130430",
         "2": "Harry, a History: The True Story of a Boy Wizard, His Fans, and Life Inside the Harry Potter Phenomenon",
         "3": "4.09"
        },
        {
         "0": "J.K. Rowling",
         "1": "3950967",
         "2": "The Tales of Beedle the Bard",
         "3": "4.06"
        },
        {
         "0": "Robert Galbraith, J.K. Rowling",
         "1": "18214414",
         "2": "The Silkworm (Cormoran Strike, #2)",
         "3": "4.03"
        },
        {
         "0": "Newt Scamander, J.K. Rowling, Albus Dumbledore",
         "1": "41899",
         "2": "Fantastic Beasts and Where to Find Them",
         "3": "3.95"
        },
        {
         "0": "Kennilworthy Whisp, J.K. Rowling",
         "1": "111450",
         "2": "Quidditch Through the Ages",
         "3": "3.85"
        },
        {
         "0": "Robert Galbraith, J.K. Rowling",
         "1": "16160797",
         "2": "The Cuckoo's Calling (Cormoran Strike, #1)",
         "3": "3.83"
        },
        {
         "0": "John Tiffany, Jack Thorne, J.K. Rowling",
         "1": "29056083",
         "2": "Harry Potter and the Cursed Child - Parts One and Two (Harry Potter, #8)",
         "3": "3.75"
        },
        {
         "0": "J.K. Rowling",
         "1": "13497818",
         "2": "The Casual Vacancy",
         "3": "3.28"
        }
       ],
       "schema": {
        "fields": [
         {
          "name": "authors"
         },
         {
          "name": "book_id"
         },
         {
          "name": "title"
         },
         {
          "name": "J.K. Rowling's Books"
         }
        ]
       }
      },
      "text/html": [
       "<table><tr><th>authors</th><th>book_id</th><th>title</th><th>J.K. Rowling's Books</th></tr><tr><td>J.K. Rowling, Mary GrandPré</td><td>8</td><td>Harry Potter Boxed Set, Books 1-5 (Harry Potter, #1-5)</td><td>4.77</td></tr><tr><td>J.K. Rowling</td><td>862041</td><td>Harry Potter Boxset (Harry Potter, #1-7)</td><td>4.74</td></tr><tr><td>J.K. Rowling</td><td>10</td><td>Harry Potter Collection (Harry Potter, #1-6)</td><td>4.73</td></tr><tr><td>J.K. Rowling, Mary GrandPré</td><td>99298</td><td>The Harry Potter Collection 1-4 (Harry Potter, #1-4)</td><td>4.66</td></tr><tr><td>J.K. Rowling, Mary GrandPré</td><td>136251</td><td>Harry Potter and the Deathly Hallows (Harry Potter, #7)</td><td>4.61</td></tr><tr><td>J.K. Rowling</td><td>1317181</td><td>Harry Potter and the Order of the Phoenix (Harry Potter, #5, Part 1)</td><td>4.56</td></tr><tr><td>J.K. Rowling, Mary GrandPré</td><td>1</td><td>Harry Potter and the Half-Blood Prince (Harry Potter, #6)</td><td>4.54</td></tr><tr><td>J.K. Rowling, Mary GrandPré</td><td>6</td><td>Harry Potter and the Goblet of Fire (Harry Potter, #4)</td><td>4.53</td></tr><tr><td>J.K. Rowling, Mary GrandPré, Rufus Beck</td><td>5</td><td>Harry Potter and the Prisoner of Azkaban (Harry Potter, #3)</td><td>4.53</td></tr><tr><td>J.K. Rowling, Mary GrandPré</td><td>2</td><td>Harry Potter and the Order of the Phoenix (Harry Potter, #5)</td><td>4.46</td></tr><tr><td>J.K. Rowling, Mary GrandPré</td><td>3</td><td>Harry Potter and the Sorcerer's Stone (Harry Potter, #1)</td><td>4.44</td></tr><tr><td>J.K. Rowling</td><td>30065028</td><td>Fantastic Beasts and Where to Find Them: The Original Screenplay</td><td>4.41</td></tr><tr><td>J.K. Rowling</td><td>2002</td><td>Harry Potter Schoolbooks Box Set: Two Classic Books from the Library of Hogwarts School of Witchcraft and Wizardry</td><td>4.4</td></tr><tr><td>J.K. Rowling, Mary GrandPré</td><td>15881</td><td>Harry Potter and the Chamber of Secrets (Harry Potter, #2)</td><td>4.37</td></tr><tr><td>J.K. Rowling, Joel Holland</td><td>23731881</td><td>Very Good Lives: The Fringe Benefits of Failure and the Importance of Imagination</td><td>4.26</td></tr><tr><td>J.K. Rowling, MinaLima</td><td>31538635</td><td>Short Stories from Hogwarts of Heroism, Hardship and Dangerous Hobbies (Pottermore Presents, #1)</td><td>4.22</td></tr><tr><td>J.K. Rowling</td><td>31538647</td><td>Hogwarts: An Incomplete and Unreliable Guide (Pottermore Presents, #3)</td><td>4.21</td></tr><tr><td>Robert Galbraith, J.K. Rowling</td><td>25735012</td><td>Career of Evil (Cormoran Strike, #3)</td><td>4.21</td></tr><tr><td>J.K. Rowling, MinaLima</td><td>31538614</td><td>Short Stories from Hogwarts of Power, Politics and Pesky Poltergeists (Pottermore Presents, #2)</td><td>4.2</td></tr><tr><td>Melissa Anelli, J.K. Rowling</td><td>3130430</td><td>Harry, a History: The True Story of a Boy Wizard, His Fans, and Life Inside the Harry Potter Phenomenon</td><td>4.09</td></tr><tr><td>J.K. Rowling</td><td>3950967</td><td>The Tales of Beedle the Bard</td><td>4.06</td></tr><tr><td>Robert Galbraith, J.K. Rowling</td><td>18214414</td><td>The Silkworm (Cormoran Strike, #2)</td><td>4.03</td></tr><tr><td>Newt Scamander, J.K. Rowling, Albus Dumbledore</td><td>41899</td><td>Fantastic Beasts and Where to Find Them</td><td>3.95</td></tr><tr><td>Kennilworthy Whisp, J.K. Rowling</td><td>111450</td><td>Quidditch Through the Ages</td><td>3.85</td></tr><tr><td>Robert Galbraith, J.K. Rowling</td><td>16160797</td><td>The Cuckoo's Calling (Cormoran Strike, #1)</td><td>3.83</td></tr><tr><td>John Tiffany, Jack Thorne, J.K. Rowling</td><td>29056083</td><td>Harry Potter and the Cursed Child - Parts One and Two (Harry Potter, #8)</td><td>3.75</td></tr><tr><td>J.K. Rowling</td><td>13497818</td><td>The Casual Vacancy</td><td>3.28</td></tr></table>"
      ]
     },
     "execution_count": 69,
     "metadata": {},
     "output_type": "execute_result"
    }
   ],
   "source": [
    "-- Try updating your above query to include all of J.K. Rowling's books\n",
    "SELECT authors, book_id, title, average_rating AS \"J.K. Rowling's Books\"\n",
    "FROM books\n",
    "WHERE authors LIKE '%J.K. Rowling%'\n",
    "GROUP BY authors,book_id,title, average_rating\n",
    "ORDER BY average_rating DESC, authors;"
   ]
  },
  {
   "cell_type": "markdown",
   "metadata": {
    "azdata_cell_guid": "35ee4a48-8e84-4eb5-95ca-f5cdddc8d682"
   },
   "source": [
    "Try updating your above query to include all of J.K. Rowling's books.\n",
    "\n",
    "Are there any other issues?\n",
    "\n",
    "> Click here to add your answer.\n",
    "> \n",
    "> Some books are not solely written by J.K. Rowling"
   ]
  },
  {
   "cell_type": "markdown",
   "metadata": {
    "azdata_cell_guid": "75bf5054-4918-4e9e-8e03-24a38ffab9cc"
   },
   "source": [
    "Question 9: Write a query that returns the number of Authors whose first name is between rock and roll."
   ]
  },
  {
   "cell_type": "code",
   "execution_count": 70,
   "metadata": {
    "azdata_cell_guid": "491b2492-95d4-4078-b319-386b0c5592ec",
    "language": "sql"
   },
   "outputs": [
    {
     "data": {
      "text/html": [
       "(25 rows affected)"
      ]
     },
     "metadata": {},
     "output_type": "display_data"
    },
    {
     "data": {
      "text/html": [
       "Total execution time: 00:00:00.071"
      ]
     },
     "metadata": {},
     "output_type": "display_data"
    },
    {
     "data": {
      "application/vnd.dataresource+json": {
       "data": [
        {
         "0": "Rohinton Mistry"
        },
        {
         "0": "Roger Fisher, William Ury, Bruce Patton"
        },
        {
         "0": "Roger Zelazny"
        },
        {
         "0": "Rodman Philbrick"
        },
        {
         "0": "Roland Barthes, Richard Howard"
        },
        {
         "0": "Roger Zelazny"
        },
        {
         "0": "Roger Zelazny, Sönmez Güven"
        },
        {
         "0": "Rohinton Mistry"
        },
        {
         "0": "Roger Lowenstein"
        },
        {
         "0": "Roland Smith"
        },
        {
         "0": "Roddy Doyle"
        },
        {
         "0": "Roger Zelazny"
        },
        {
         "0": "Rod Campbell"
        },
        {
         "0": "Rolf Potts"
        },
        {
         "0": "Roger Zelazny"
        },
        {
         "0": "Roland Smith"
        },
        {
         "0": "Rolf Dobelli"
        },
        {
         "0": "Roland Merullo"
        },
        {
         "0": "Roger Zelazny"
        },
        {
         "0": "Roddy Doyle"
        },
        {
         "0": "Roland Barthes, Annette Lavers"
        },
        {
         "0": "Roger Zelazny"
        },
        {
         "0": "Roderick Gordon, Brian  Williams"
        },
        {
         "0": "Roger Lea MacBride, David Gilleece"
        },
        {
         "0": "Roger Zelazny"
        }
       ],
       "schema": {
        "fields": [
         {
          "name": "authors"
         }
        ]
       }
      },
      "text/html": [
       "<table><tr><th>authors</th></tr><tr><td>Rohinton Mistry</td></tr><tr><td>Roger Fisher, William Ury, Bruce Patton</td></tr><tr><td>Roger Zelazny</td></tr><tr><td>Rodman Philbrick</td></tr><tr><td>Roland Barthes, Richard Howard</td></tr><tr><td>Roger Zelazny</td></tr><tr><td>Roger Zelazny, Sönmez Güven</td></tr><tr><td>Rohinton Mistry</td></tr><tr><td>Roger Lowenstein</td></tr><tr><td>Roland Smith</td></tr><tr><td>Roddy Doyle</td></tr><tr><td>Roger Zelazny</td></tr><tr><td>Rod Campbell</td></tr><tr><td>Rolf Potts</td></tr><tr><td>Roger Zelazny</td></tr><tr><td>Roland Smith</td></tr><tr><td>Rolf Dobelli</td></tr><tr><td>Roland Merullo</td></tr><tr><td>Roger Zelazny</td></tr><tr><td>Roddy Doyle</td></tr><tr><td>Roland Barthes, Annette Lavers</td></tr><tr><td>Roger Zelazny</td></tr><tr><td>Roderick Gordon, Brian  Williams</td></tr><tr><td>Roger Lea MacBride, David Gilleece</td></tr><tr><td>Roger Zelazny</td></tr></table>"
      ]
     },
     "execution_count": 70,
     "metadata": {},
     "output_type": "execute_result"
    }
   ],
   "source": [
    "-- return number of authors whose first name is between rock and roll\n",
    "SELECT authors\n",
    "FROM books\n",
    "WHERE authors BETWEEN 'rock' AND 'roll'"
   ]
  },
  {
   "cell_type": "markdown",
   "metadata": {
    "azdata_cell_guid": "1ba1363a-4f02-4962-a95a-93b80c5926b1"
   },
   "source": [
    "## Part 2. Write your own question and write a query to answer it.\n",
    "\n",
    "Your Question:  Which books are the 3 least popular?"
   ]
  },
  {
   "cell_type": "code",
   "execution_count": 74,
   "metadata": {
    "azdata_cell_guid": "607f1a61-b306-42bf-a20c-60ec3a6ba86a",
    "language": "sql"
   },
   "outputs": [
    {
     "data": {
      "text/html": [
       "(3 rows affected)"
      ]
     },
     "metadata": {},
     "output_type": "display_data"
    },
    {
     "data": {
      "text/html": [
       "Total execution time: 00:00:00.051"
      ]
     },
     "metadata": {},
     "output_type": "display_data"
    },
    {
     "data": {
      "application/vnd.dataresource+json": {
       "data": [
        {
         "0": "One Night at the Call Center",
         "1": "2.47"
        },
        {
         "0": "The Almost Moon",
         "1": "2.67"
        },
        {
         "0": "The Finkler Question",
         "1": "2.76"
        }
       ],
       "schema": {
        "fields": [
         {
          "name": "Bottom 3 books"
         },
         {
          "name": "average_rating"
         }
        ]
       }
      },
      "text/html": [
       "<table><tr><th>Bottom 3 books</th><th>average_rating</th></tr><tr><td>One Night at the Call Center</td><td>2.47</td></tr><tr><td>The Almost Moon</td><td>2.67</td></tr><tr><td>The Finkler Question</td><td>2.76</td></tr></table>"
      ]
     },
     "execution_count": 74,
     "metadata": {},
     "output_type": "execute_result"
    }
   ],
   "source": [
    "-- Add your querry here\n",
    "SELECT TOP 3 title AS 'Bottom 3 books', average_rating\n",
    "FROM books\n",
    "ORDER BY average_rating ASC"
   ]
  },
  {
   "cell_type": "markdown",
   "metadata": {
    "azdata_cell_guid": "9386ad04-a016-44d4-8c5c-d25a102d47b4"
   },
   "source": [
    "Your Question: Click here to add: What year were the most books were published?"
   ]
  },
  {
   "cell_type": "code",
   "execution_count": 79,
   "metadata": {
    "azdata_cell_guid": "15f249cf-aad7-468d-92e1-429b2a09f285",
    "language": "sql"
   },
   "outputs": [
    {
     "data": {
      "text/html": [
       "Warning: Null value is eliminated by an aggregate or other SET operation."
      ]
     },
     "metadata": {},
     "output_type": "display_data"
    },
    {
     "data": {
      "text/html": [
       "(294 rows affected)"
      ]
     },
     "metadata": {},
     "output_type": "display_data"
    },
    {
     "data": {
      "text/html": [
       "Total execution time: 00:00:00.061"
      ]
     },
     "metadata": {},
     "output_type": "display_data"
    },
    {
     "data": {
      "application/vnd.dataresource+json": {
       "data": [
        {
         "0": "2012",
         "1": "568"
        },
        {
         "0": "2011",
         "1": "556"
        },
        {
         "0": "2013",
         "1": "518"
        },
        {
         "0": "2010",
         "1": "473"
        },
        {
         "0": "2014",
         "1": "437"
        },
        {
         "0": "2009",
         "1": "432"
        },
        {
         "0": "2008",
         "1": "383"
        },
        {
         "0": "2007",
         "1": "363"
        },
        {
         "0": "2006",
         "1": "362"
        },
        {
         "0": "2005",
         "1": "326"
        },
        {
         "0": "2004",
         "1": "307"
        },
        {
         "0": "2015",
         "1": "306"
        },
        {
         "0": "2003",
         "1": "288"
        },
        {
         "0": "2001",
         "1": "226"
        },
        {
         "0": "2002",
         "1": "225"
        },
        {
         "0": "2000",
         "1": "209"
        },
        {
         "0": "2016",
         "1": "198"
        },
        {
         "0": "1999",
         "1": "186"
        },
        {
         "0": "1998",
         "1": "172"
        },
        {
         "0": "1997",
         "1": "168"
        },
        {
         "0": "1996",
         "1": "163"
        },
        {
         "0": "1995",
         "1": "126"
        },
        {
         "0": "1994",
         "1": "121"
        },
        {
         "0": "1993",
         "1": "115"
        },
        {
         "0": "1992",
         "1": "112"
        },
        {
         "0": "1990",
         "1": "99"
        },
        {
         "0": "1991",
         "1": "98"
        },
        {
         "0": "1988",
         "1": "89"
        },
        {
         "0": "1989",
         "1": "87"
        },
        {
         "0": "1987",
         "1": "83"
        },
        {
         "0": "1986",
         "1": "78"
        },
        {
         "0": "1985",
         "1": "77"
        },
        {
         "0": "1982",
         "1": "75"
        },
        {
         "0": "1984",
         "1": "67"
        },
        {
         "0": "1977",
         "1": "56"
        },
        {
         "0": "1980",
         "1": "54"
        },
        {
         "0": "1981",
         "1": "50"
        },
        {
         "0": "1978",
         "1": "48"
        },
        {
         "0": "1979",
         "1": "48"
        },
        {
         "0": "1983",
         "1": "44"
        },
        {
         "0": "1975",
         "1": "40"
        },
        {
         "0": "1974",
         "1": "40"
        },
        {
         "0": "1976",
         "1": "39"
        },
        {
         "0": "1973",
         "1": "35"
        },
        {
         "0": "1968",
         "1": "35"
        },
        {
         "0": "1961",
         "1": "33"
        },
        {
         "0": "1970",
         "1": "33"
        },
        {
         "0": "1962",
         "1": "32"
        },
        {
         "0": "1969",
         "1": "32"
        },
        {
         "0": "1971",
         "1": "31"
        },
        {
         "0": "1963",
         "1": "31"
        },
        {
         "0": "1972",
         "1": "30"
        },
        {
         "0": "1953",
         "1": "26"
        },
        {
         "0": "1956",
         "1": "26"
        },
        {
         "0": "1959",
         "1": "24"
        },
        {
         "0": "1967",
         "1": "24"
        },
        {
         "0": "1955",
         "1": "24"
        },
        {
         "0": "1958",
         "1": "24"
        },
        {
         "0": "1965",
         "1": "23"
        },
        {
         "0": "1947",
         "1": "22"
        },
        {
         "0": "1960",
         "1": "22"
        },
        {
         "0": "1966",
         "1": "21"
        },
        {
         "0": "1954",
         "1": "21"
        },
        {
         "0": "1940",
         "1": "19"
        },
        {
         "0": "1942",
         "1": "19"
        },
        {
         "0": "1952",
         "1": "19"
        },
        {
         "0": "1964",
         "1": "19"
        },
        {
         "0": "1957",
         "1": "19"
        },
        {
         "0": "1938",
         "1": "17"
        },
        {
         "0": "1936",
         "1": "17"
        },
        {
         "0": "1945",
         "1": "16"
        },
        {
         "0": "1948",
         "1": "16"
        },
        {
         "0": "1943",
         "1": "15"
        },
        {
         "0": "1939",
         "1": "15"
        },
        {
         "0": "1946",
         "1": "14"
        },
        {
         "0": "1950",
         "1": "14"
        },
        {
         "0": "1937",
         "1": "14"
        },
        {
         "0": "1930",
         "1": "14"
        },
        {
         "0": "1949",
         "1": "13"
        },
        {
         "0": "1927",
         "1": "13"
        },
        {
         "0": "1951",
         "1": "13"
        },
        {
         "0": "1926",
         "1": "12"
        },
        {
         "0": "2017",
         "1": "11"
        },
        {
         "0": "1922",
         "1": "11"
        },
        {
         "0": "1941",
         "1": "11"
        },
        {
         "0": "1933",
         "1": "11"
        },
        {
         "0": "1925",
         "1": "11"
        },
        {
         "0": "1944",
         "1": "10"
        },
        {
         "0": "1929",
         "1": "10"
        },
        {
         "0": "1934",
         "1": "10"
        },
        {
         "0": "1915",
         "1": "10"
        },
        {
         "0": "1932",
         "1": "10"
        },
        {
         "0": "1924",
         "1": "9"
        },
        {
         "0": "1912",
         "1": "9"
        },
        {
         "0": "1886",
         "1": "9"
        },
        {
         "0": "1843",
         "1": "8"
        },
        {
         "0": "1895",
         "1": "8"
        },
        {
         "0": "1899",
         "1": "8"
        },
        {
         "0": "1935",
         "1": "8"
        },
        {
         "0": "1920",
         "1": "7"
        },
        {
         "0": "1928",
         "1": "7"
        },
        {
         "0": "1908",
         "1": "7"
        },
        {
         "0": "1900",
         "1": "6"
        },
        {
         "0": "1919",
         "1": "6"
        },
        {
         "0": "1904",
         "1": "6"
        },
        {
         "0": "1923",
         "1": "6"
        },
        {
         "0": "1865",
         "1": "6"
        },
        {
         "0": "1880",
         "1": "6"
        },
        {
         "0": "1894",
         "1": "6"
        },
        {
         "0": "1902",
         "1": "6"
        },
        {
         "0": "1905",
         "1": "6"
        },
        {
         "0": "1859",
         "1": "6"
        },
        {
         "0": "1890",
         "1": "6"
        },
        {
         "0": "1848",
         "1": "6"
        },
        {
         "0": "1897",
         "1": "6"
        },
        {
         "0": "1931",
         "1": "5"
        },
        {
         "0": "1844",
         "1": "5"
        },
        {
         "0": "1776",
         "1": "5"
        },
        {
         "0": "1871",
         "1": "5"
        },
        {
         "0": "1853",
         "1": "5"
        },
        {
         "0": "1849",
         "1": "5"
        },
        {
         "0": "1906",
         "1": "5"
        },
        {
         "0": "1913",
         "1": "5"
        },
        {
         "0": "1887",
         "1": "5"
        },
        {
         "0": "1909",
         "1": "5"
        },
        {
         "0": "1872",
         "1": "5"
        },
        {
         "0": "1914",
         "1": "5"
        },
        {
         "0": "1869",
         "1": "5"
        },
        {
         "0": "1884",
         "1": "4"
        },
        {
         "0": "1812",
         "1": "4"
        },
        {
         "0": "1861",
         "1": "4"
        },
        {
         "0": "1888",
         "1": "4"
        },
        {
         "0": "1876",
         "1": "4"
        },
        {
         "0": "1854",
         "1": "4"
        },
        {
         "0": "1847",
         "1": "4"
        },
        {
         "0": "1903",
         "1": "4"
        },
        {
         "0": "1842",
         "1": "4"
        },
        {
         "0": "1911",
         "1": "4"
        },
        {
         "0": "1862",
         "1": "4"
        },
        {
         "0": "1892",
         "1": "4"
        },
        {
         "0": "1885",
         "1": "4"
        },
        {
         "0": "1845",
         "1": "4"
        },
        {
         "0": "1868",
         "1": "4"
        },
        {
         "0": "1901",
         "1": "4"
        },
        {
         "0": "1916",
         "1": "4"
        },
        {
         "0": "1840",
         "1": "3"
        },
        {
         "0": "1689",
         "1": "3"
        },
        {
         "0": "1599",
         "1": "3"
        },
        {
         "0": "1874",
         "1": "3"
        },
        {
         "0": "1595",
         "1": "3"
        },
        {
         "0": "1833",
         "1": "3"
        },
        {
         "0": "1893",
         "1": "3"
        },
        {
         "0": "1864",
         "1": "3"
        },
        {
         "0": "1603",
         "1": "3"
        },
        {
         "0": "1883",
         "1": "3"
        },
        {
         "0": "1320",
         "1": "3"
        },
        {
         "0": "1860",
         "1": "3"
        },
        {
         "0": "1921",
         "1": "3"
        },
        {
         "0": "-500",
         "1": "3"
        },
        {
         "0": "1866",
         "1": "3"
        },
        {
         "0": "1881",
         "1": "3"
        },
        {
         "0": "1889",
         "1": "3"
        },
        {
         "0": "1896",
         "1": "3"
        },
        {
         "0": "1910",
         "1": "3"
        },
        {
         "0": "1839",
         "1": "3"
        },
        {
         "0": "1857",
         "1": "3"
        },
        {
         "0": "1835",
         "1": "3"
        },
        {
         "0": "1891",
         "1": "3"
        },
        {
         "0": "1623",
         "1": "2"
        },
        {
         "0": "1918",
         "1": "2"
        },
        {
         "0": "1850",
         "1": "2"
        },
        {
         "0": "1729",
         "1": "2"
        },
        {
         "0": "1907",
         "1": "2"
        },
        {
         "0": "-385",
         "1": "2"
        },
        {
         "0": "1820",
         "1": "2"
        },
        {
         "0": "1855",
         "1": "2"
        },
        {
         "0": "1813",
         "1": "2"
        },
        {
         "0": "-350",
         "1": "2"
        },
        {
         "0": "1877",
         "1": "2"
        },
        {
         "0": "-400",
         "1": "2"
        },
        {
         "0": "1787",
         "1": "2"
        },
        {
         "0": "1390",
         "1": "2"
        },
        {
         "0": "1851",
         "1": "2"
        },
        {
         "0": "1817",
         "1": "2"
        },
        {
         "0": "1836",
         "1": "2"
        },
        {
         "0": "1830",
         "1": "2"
        },
        {
         "0": "1637",
         "1": "2"
        },
        {
         "0": "1600",
         "1": "2"
        },
        {
         "0": "-458",
         "1": "2"
        },
        {
         "0": "1917",
         "1": "2"
        },
        {
         "0": "1819",
         "1": "2"
        },
        {
         "0": "1841",
         "1": "2"
        },
        {
         "0": "1856",
         "1": "2"
        },
        {
         "0": "1878",
         "1": "2"
        },
        {
         "0": "1882",
         "1": "2"
        },
        {
         "0": "-750",
         "1": "2"
        },
        {
         "0": "-411",
         "1": "2"
        },
        {
         "0": "1606",
         "1": "2"
        },
        {
         "0": "1550",
         "1": "1"
        },
        {
         "0": "1818",
         "1": "1"
        },
        {
         "0": "1852",
         "1": "1"
        },
        {
         "0": "1791",
         "1": "1"
        },
        {
         "0": "1867",
         "1": "1"
        },
        {
         "0": "1516",
         "1": "1"
        },
        {
         "0": "1667",
         "1": "1"
        },
        {
         "0": "1814",
         "1": "1"
        },
        {
         "0": "1485",
         "1": "1"
        },
        {
         "0": "1863",
         "1": "1"
        },
        {
         "0": "1380",
         "1": "1"
        },
        {
         "0": "1519",
         "1": "1"
        },
        {
         "0": "397",
         "1": "1"
        },
        {
         "0": "1353",
         "1": "1"
        },
        {
         "0": "-430",
         "1": "1"
        },
        {
         "0": "1678",
         "1": "1"
        },
        {
         "0": "8",
         "1": "1"
        },
        {
         "0": "609",
         "1": "1"
        },
        {
         "0": "1308",
         "1": "1"
        },
        {
         "0": "1837",
         "1": "1"
        },
        {
         "0": "1591",
         "1": "1"
        },
        {
         "0": "1825",
         "1": "1"
        },
        {
         "0": "1796",
         "1": "1"
        },
        {
         "0": "1785",
         "1": "1"
        },
        {
         "0": "1641",
         "1": "1"
        },
        {
         "0": "1532",
         "1": "1"
        },
        {
         "0": "1834",
         "1": "1"
        },
        {
         "0": "1120",
         "1": "1"
        },
        {
         "0": "1807",
         "1": "1"
        },
        {
         "0": "-441",
         "1": "1"
        },
        {
         "0": "1554",
         "1": "1"
        },
        {
         "0": "1815",
         "1": "1"
        },
        {
         "0": "1596",
         "1": "1"
        },
        {
         "0": "1418",
         "1": "1"
        },
        {
         "0": "1513",
         "1": "1"
        },
        {
         "0": "1898",
         "1": "1"
        },
        {
         "0": "1781",
         "1": "1"
        },
        {
         "0": "1664",
         "1": "1"
        },
        {
         "0": "-390",
         "1": "1"
        },
        {
         "0": "-720",
         "1": "1"
        },
        {
         "0": "-440",
         "1": "1"
        },
        {
         "0": "1762",
         "1": "1"
        },
        {
         "0": "1645",
         "1": "1"
        },
        {
         "0": "-476",
         "1": "1"
        },
        {
         "0": "1611",
         "1": "1"
        },
        {
         "0": "1879",
         "1": "1"
        },
        {
         "0": "1811",
         "1": "1"
        },
        {
         "0": "800",
         "1": "1"
        },
        {
         "0": "1826",
         "1": "1"
        },
        {
         "0": "119",
         "1": "1"
        },
        {
         "0": "1592",
         "1": "1"
        },
        {
         "0": "1838",
         "1": "1"
        },
        {
         "0": "1719",
         "1": "1"
        },
        {
         "0": "-762",
         "1": "1"
        },
        {
         "0": "1590",
         "1": "1"
        },
        {
         "0": "-330",
         "1": "1"
        },
        {
         "0": "1605",
         "1": "1"
        },
        {
         "0": "-560",
         "1": "1"
        },
        {
         "0": "1651",
         "1": "1"
        },
        {
         "0": "-380",
         "1": "1"
        },
        {
         "0": "1764",
         "1": "1"
        },
        {
         "0": "1798",
         "1": "1"
        },
        {
         "0": "1832",
         "1": "1"
        },
        {
         "0": "1749",
         "1": "1"
        },
        {
         "0": "1598",
         "1": "1"
        },
        {
         "0": "1666",
         "1": "1"
        },
        {
         "0": "1722",
         "1": "1"
        },
        {
         "0": "-1750",
         "1": "1"
        },
        {
         "0": "1273",
         "1": "1"
        },
        {
         "0": "-431",
         "1": "1"
        },
        {
         "0": "-17",
         "1": "1"
        },
        {
         "0": "1726",
         "1": "1"
        },
        {
         "0": "975",
         "1": "1"
        },
        {
         "0": "1594",
         "1": "1"
        },
        {
         "0": "1677",
         "1": "1"
        },
        {
         "0": "1759",
         "1": "1"
        },
        {
         "0": "1691",
         "1": "1"
        },
        {
         "0": "1593",
         "1": "1"
        },
        {
         "0": "-335",
         "1": "1"
        },
        {
         "0": "1846",
         "1": "1"
        },
        {
         "0": "1563",
         "1": "1"
        },
        {
         "0": "1831",
         "1": "1"
        },
        {
         "0": "1748",
         "1": "1"
        },
        {
         "0": "1597",
         "1": "1"
        },
        {
         "0": "1604",
         "1": "1"
        },
        {
         "0": "-300",
         "1": "1"
        },
        {
         "0": "180",
         "1": "1"
        },
        {
         "0": "1782",
         "1": "1"
        },
        {
         "0": "1767",
         "1": "1"
        },
        {
         "0": "1789",
         "1": "1"
        },
        {
         "0": "1589",
         "1": "1"
        },
        {
         "0": "-401",
         "1": "1"
        },
        {
         "0": "1808",
         "1": "1"
        },
        {
         "0": "1601",
         "1": "1"
        },
        {
         "0": "1774",
         "1": "1"
        },
        {
         "0": "NULL",
         "1": "0"
        }
       ],
       "schema": {
        "fields": [
         {
          "name": "original_publication_year"
         },
         {
          "name": "Number of books published"
         }
        ]
       }
      },
      "text/html": [
       "<table><tr><th>original_publication_year</th><th>Number of books published</th></tr><tr><td>2012</td><td>568</td></tr><tr><td>2011</td><td>556</td></tr><tr><td>2013</td><td>518</td></tr><tr><td>2010</td><td>473</td></tr><tr><td>2014</td><td>437</td></tr><tr><td>2009</td><td>432</td></tr><tr><td>2008</td><td>383</td></tr><tr><td>2007</td><td>363</td></tr><tr><td>2006</td><td>362</td></tr><tr><td>2005</td><td>326</td></tr><tr><td>2004</td><td>307</td></tr><tr><td>2015</td><td>306</td></tr><tr><td>2003</td><td>288</td></tr><tr><td>2001</td><td>226</td></tr><tr><td>2002</td><td>225</td></tr><tr><td>2000</td><td>209</td></tr><tr><td>2016</td><td>198</td></tr><tr><td>1999</td><td>186</td></tr><tr><td>1998</td><td>172</td></tr><tr><td>1997</td><td>168</td></tr><tr><td>1996</td><td>163</td></tr><tr><td>1995</td><td>126</td></tr><tr><td>1994</td><td>121</td></tr><tr><td>1993</td><td>115</td></tr><tr><td>1992</td><td>112</td></tr><tr><td>1990</td><td>99</td></tr><tr><td>1991</td><td>98</td></tr><tr><td>1988</td><td>89</td></tr><tr><td>1989</td><td>87</td></tr><tr><td>1987</td><td>83</td></tr><tr><td>1986</td><td>78</td></tr><tr><td>1985</td><td>77</td></tr><tr><td>1982</td><td>75</td></tr><tr><td>1984</td><td>67</td></tr><tr><td>1977</td><td>56</td></tr><tr><td>1980</td><td>54</td></tr><tr><td>1981</td><td>50</td></tr><tr><td>1978</td><td>48</td></tr><tr><td>1979</td><td>48</td></tr><tr><td>1983</td><td>44</td></tr><tr><td>1975</td><td>40</td></tr><tr><td>1974</td><td>40</td></tr><tr><td>1976</td><td>39</td></tr><tr><td>1973</td><td>35</td></tr><tr><td>1968</td><td>35</td></tr><tr><td>1961</td><td>33</td></tr><tr><td>1970</td><td>33</td></tr><tr><td>1962</td><td>32</td></tr><tr><td>1969</td><td>32</td></tr><tr><td>1971</td><td>31</td></tr><tr><td>1963</td><td>31</td></tr><tr><td>1972</td><td>30</td></tr><tr><td>1953</td><td>26</td></tr><tr><td>1956</td><td>26</td></tr><tr><td>1959</td><td>24</td></tr><tr><td>1967</td><td>24</td></tr><tr><td>1955</td><td>24</td></tr><tr><td>1958</td><td>24</td></tr><tr><td>1965</td><td>23</td></tr><tr><td>1947</td><td>22</td></tr><tr><td>1960</td><td>22</td></tr><tr><td>1966</td><td>21</td></tr><tr><td>1954</td><td>21</td></tr><tr><td>1940</td><td>19</td></tr><tr><td>1942</td><td>19</td></tr><tr><td>1952</td><td>19</td></tr><tr><td>1964</td><td>19</td></tr><tr><td>1957</td><td>19</td></tr><tr><td>1938</td><td>17</td></tr><tr><td>1936</td><td>17</td></tr><tr><td>1945</td><td>16</td></tr><tr><td>1948</td><td>16</td></tr><tr><td>1943</td><td>15</td></tr><tr><td>1939</td><td>15</td></tr><tr><td>1946</td><td>14</td></tr><tr><td>1950</td><td>14</td></tr><tr><td>1937</td><td>14</td></tr><tr><td>1930</td><td>14</td></tr><tr><td>1949</td><td>13</td></tr><tr><td>1927</td><td>13</td></tr><tr><td>1951</td><td>13</td></tr><tr><td>1926</td><td>12</td></tr><tr><td>2017</td><td>11</td></tr><tr><td>1922</td><td>11</td></tr><tr><td>1941</td><td>11</td></tr><tr><td>1933</td><td>11</td></tr><tr><td>1925</td><td>11</td></tr><tr><td>1944</td><td>10</td></tr><tr><td>1929</td><td>10</td></tr><tr><td>1934</td><td>10</td></tr><tr><td>1915</td><td>10</td></tr><tr><td>1932</td><td>10</td></tr><tr><td>1924</td><td>9</td></tr><tr><td>1912</td><td>9</td></tr><tr><td>1886</td><td>9</td></tr><tr><td>1843</td><td>8</td></tr><tr><td>1895</td><td>8</td></tr><tr><td>1899</td><td>8</td></tr><tr><td>1935</td><td>8</td></tr><tr><td>1920</td><td>7</td></tr><tr><td>1928</td><td>7</td></tr><tr><td>1908</td><td>7</td></tr><tr><td>1900</td><td>6</td></tr><tr><td>1919</td><td>6</td></tr><tr><td>1904</td><td>6</td></tr><tr><td>1923</td><td>6</td></tr><tr><td>1865</td><td>6</td></tr><tr><td>1880</td><td>6</td></tr><tr><td>1894</td><td>6</td></tr><tr><td>1902</td><td>6</td></tr><tr><td>1905</td><td>6</td></tr><tr><td>1859</td><td>6</td></tr><tr><td>1890</td><td>6</td></tr><tr><td>1848</td><td>6</td></tr><tr><td>1897</td><td>6</td></tr><tr><td>1931</td><td>5</td></tr><tr><td>1844</td><td>5</td></tr><tr><td>1776</td><td>5</td></tr><tr><td>1871</td><td>5</td></tr><tr><td>1853</td><td>5</td></tr><tr><td>1849</td><td>5</td></tr><tr><td>1906</td><td>5</td></tr><tr><td>1913</td><td>5</td></tr><tr><td>1887</td><td>5</td></tr><tr><td>1909</td><td>5</td></tr><tr><td>1872</td><td>5</td></tr><tr><td>1914</td><td>5</td></tr><tr><td>1869</td><td>5</td></tr><tr><td>1884</td><td>4</td></tr><tr><td>1812</td><td>4</td></tr><tr><td>1861</td><td>4</td></tr><tr><td>1888</td><td>4</td></tr><tr><td>1876</td><td>4</td></tr><tr><td>1854</td><td>4</td></tr><tr><td>1847</td><td>4</td></tr><tr><td>1903</td><td>4</td></tr><tr><td>1842</td><td>4</td></tr><tr><td>1911</td><td>4</td></tr><tr><td>1862</td><td>4</td></tr><tr><td>1892</td><td>4</td></tr><tr><td>1885</td><td>4</td></tr><tr><td>1845</td><td>4</td></tr><tr><td>1868</td><td>4</td></tr><tr><td>1901</td><td>4</td></tr><tr><td>1916</td><td>4</td></tr><tr><td>1840</td><td>3</td></tr><tr><td>1689</td><td>3</td></tr><tr><td>1599</td><td>3</td></tr><tr><td>1874</td><td>3</td></tr><tr><td>1595</td><td>3</td></tr><tr><td>1833</td><td>3</td></tr><tr><td>1893</td><td>3</td></tr><tr><td>1864</td><td>3</td></tr><tr><td>1603</td><td>3</td></tr><tr><td>1883</td><td>3</td></tr><tr><td>1320</td><td>3</td></tr><tr><td>1860</td><td>3</td></tr><tr><td>1921</td><td>3</td></tr><tr><td>-500</td><td>3</td></tr><tr><td>1866</td><td>3</td></tr><tr><td>1881</td><td>3</td></tr><tr><td>1889</td><td>3</td></tr><tr><td>1896</td><td>3</td></tr><tr><td>1910</td><td>3</td></tr><tr><td>1839</td><td>3</td></tr><tr><td>1857</td><td>3</td></tr><tr><td>1835</td><td>3</td></tr><tr><td>1891</td><td>3</td></tr><tr><td>1623</td><td>2</td></tr><tr><td>1918</td><td>2</td></tr><tr><td>1850</td><td>2</td></tr><tr><td>1729</td><td>2</td></tr><tr><td>1907</td><td>2</td></tr><tr><td>-385</td><td>2</td></tr><tr><td>1820</td><td>2</td></tr><tr><td>1855</td><td>2</td></tr><tr><td>1813</td><td>2</td></tr><tr><td>-350</td><td>2</td></tr><tr><td>1877</td><td>2</td></tr><tr><td>-400</td><td>2</td></tr><tr><td>1787</td><td>2</td></tr><tr><td>1390</td><td>2</td></tr><tr><td>1851</td><td>2</td></tr><tr><td>1817</td><td>2</td></tr><tr><td>1836</td><td>2</td></tr><tr><td>1830</td><td>2</td></tr><tr><td>1637</td><td>2</td></tr><tr><td>1600</td><td>2</td></tr><tr><td>-458</td><td>2</td></tr><tr><td>1917</td><td>2</td></tr><tr><td>1819</td><td>2</td></tr><tr><td>1841</td><td>2</td></tr><tr><td>1856</td><td>2</td></tr><tr><td>1878</td><td>2</td></tr><tr><td>1882</td><td>2</td></tr><tr><td>-750</td><td>2</td></tr><tr><td>-411</td><td>2</td></tr><tr><td>1606</td><td>2</td></tr><tr><td>1550</td><td>1</td></tr><tr><td>1818</td><td>1</td></tr><tr><td>1852</td><td>1</td></tr><tr><td>1791</td><td>1</td></tr><tr><td>1867</td><td>1</td></tr><tr><td>1516</td><td>1</td></tr><tr><td>1667</td><td>1</td></tr><tr><td>1814</td><td>1</td></tr><tr><td>1485</td><td>1</td></tr><tr><td>1863</td><td>1</td></tr><tr><td>1380</td><td>1</td></tr><tr><td>1519</td><td>1</td></tr><tr><td>397</td><td>1</td></tr><tr><td>1353</td><td>1</td></tr><tr><td>-430</td><td>1</td></tr><tr><td>1678</td><td>1</td></tr><tr><td>8</td><td>1</td></tr><tr><td>609</td><td>1</td></tr><tr><td>1308</td><td>1</td></tr><tr><td>1837</td><td>1</td></tr><tr><td>1591</td><td>1</td></tr><tr><td>1825</td><td>1</td></tr><tr><td>1796</td><td>1</td></tr><tr><td>1785</td><td>1</td></tr><tr><td>1641</td><td>1</td></tr><tr><td>1532</td><td>1</td></tr><tr><td>1834</td><td>1</td></tr><tr><td>1120</td><td>1</td></tr><tr><td>1807</td><td>1</td></tr><tr><td>-441</td><td>1</td></tr><tr><td>1554</td><td>1</td></tr><tr><td>1815</td><td>1</td></tr><tr><td>1596</td><td>1</td></tr><tr><td>1418</td><td>1</td></tr><tr><td>1513</td><td>1</td></tr><tr><td>1898</td><td>1</td></tr><tr><td>1781</td><td>1</td></tr><tr><td>1664</td><td>1</td></tr><tr><td>-390</td><td>1</td></tr><tr><td>-720</td><td>1</td></tr><tr><td>-440</td><td>1</td></tr><tr><td>1762</td><td>1</td></tr><tr><td>1645</td><td>1</td></tr><tr><td>-476</td><td>1</td></tr><tr><td>1611</td><td>1</td></tr><tr><td>1879</td><td>1</td></tr><tr><td>1811</td><td>1</td></tr><tr><td>800</td><td>1</td></tr><tr><td>1826</td><td>1</td></tr><tr><td>119</td><td>1</td></tr><tr><td>1592</td><td>1</td></tr><tr><td>1838</td><td>1</td></tr><tr><td>1719</td><td>1</td></tr><tr><td>-762</td><td>1</td></tr><tr><td>1590</td><td>1</td></tr><tr><td>-330</td><td>1</td></tr><tr><td>1605</td><td>1</td></tr><tr><td>-560</td><td>1</td></tr><tr><td>1651</td><td>1</td></tr><tr><td>-380</td><td>1</td></tr><tr><td>1764</td><td>1</td></tr><tr><td>1798</td><td>1</td></tr><tr><td>1832</td><td>1</td></tr><tr><td>1749</td><td>1</td></tr><tr><td>1598</td><td>1</td></tr><tr><td>1666</td><td>1</td></tr><tr><td>1722</td><td>1</td></tr><tr><td>-1750</td><td>1</td></tr><tr><td>1273</td><td>1</td></tr><tr><td>-431</td><td>1</td></tr><tr><td>-17</td><td>1</td></tr><tr><td>1726</td><td>1</td></tr><tr><td>975</td><td>1</td></tr><tr><td>1594</td><td>1</td></tr><tr><td>1677</td><td>1</td></tr><tr><td>1759</td><td>1</td></tr><tr><td>1691</td><td>1</td></tr><tr><td>1593</td><td>1</td></tr><tr><td>-335</td><td>1</td></tr><tr><td>1846</td><td>1</td></tr><tr><td>1563</td><td>1</td></tr><tr><td>1831</td><td>1</td></tr><tr><td>1748</td><td>1</td></tr><tr><td>1597</td><td>1</td></tr><tr><td>1604</td><td>1</td></tr><tr><td>-300</td><td>1</td></tr><tr><td>180</td><td>1</td></tr><tr><td>1782</td><td>1</td></tr><tr><td>1767</td><td>1</td></tr><tr><td>1789</td><td>1</td></tr><tr><td>1589</td><td>1</td></tr><tr><td>-401</td><td>1</td></tr><tr><td>1808</td><td>1</td></tr><tr><td>1601</td><td>1</td></tr><tr><td>1774</td><td>1</td></tr><tr><td>NULL</td><td>0</td></tr></table>"
      ]
     },
     "execution_count": 79,
     "metadata": {},
     "output_type": "execute_result"
    }
   ],
   "source": [
    "-- Add your querry here\n",
    "SELECT original_publication_year, COUNT(original_publication_year) AS 'Number of books published'\n",
    "FROM books\n",
    "GROUP BY original_publication_year\n",
    "ORDER BY COUNT(original_publication_year) DESC"
   ]
  },
  {
   "cell_type": "markdown",
   "metadata": {
    "azdata_cell_guid": "7160362b-7127-4123-bd1d-95a94ae38a07"
   },
   "source": [
    "**Some Question Examples:**\n",
    "\n",
    "Write a query that returns the longest title?\n",
    "\n",
    "Which Author has written the most books?  \n",
    "\n",
    "Top  ten books written the year I was born?"
   ]
  }
 ],
 "metadata": {
  "extensions": {
   "azuredatastudio": {
    "version": 1,
    "views": []
   }
  },
  "kernelspec": {
   "display_name": "Python 3 (ipykernel)",
   "language": "python",
   "name": "python3"
  },
  "language_info": {
   "codemirror_mode": {
    "name": "ipython",
    "version": 3
   },
   "file_extension": ".py",
   "mimetype": "text/x-python",
   "name": "python",
   "nbconvert_exporter": "python",
   "pygments_lexer": "ipython3",
   "version": "3.9.13"
  }
 },
 "nbformat": 4,
 "nbformat_minor": 4
}
